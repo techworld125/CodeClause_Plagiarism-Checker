{
 "cells": [
  {
   "cell_type": "code",
   "execution_count": 1,
   "id": "ddfff365",
   "metadata": {},
   "outputs": [],
   "source": [
    "import os\n",
    "from numpy import vectorize \n",
    "from sklearn.feature_extraction.text import TfidfVectorizer\n",
    "from sklearn.metrics.pairwise import cosine_similarity\n",
    " "
   ]
  },
  {
   "cell_type": "code",
   "execution_count": 2,
   "id": "74dcae1f",
   "metadata": {},
   "outputs": [],
   "source": [
    "files = [doc for doc in os.listdir() if doc.endswith('.txt')]\n",
    "contents = [open(File).read() for File in files]"
   ]
  },
  {
   "cell_type": "code",
   "execution_count": 3,
   "id": "0ae9ecb5",
   "metadata": {},
   "outputs": [],
   "source": [
    "vectorize = lambda Text: TfidfVectorizer().fit_transform(Text).toarray()\n",
    "similarity = lambda doc1, doc2: cosine_similarity([doc1, doc2])\n",
    " "
   ]
  },
  {
   "cell_type": "code",
   "execution_count": 4,
   "id": "bda0ad0b",
   "metadata": {},
   "outputs": [],
   "source": [
    "vectors = vectorize(contents)\n",
    "s_vectors = list(zip(files, vectors))"
   ]
  },
  {
   "cell_type": "code",
   "execution_count": 5,
   "id": "0b705834",
   "metadata": {},
   "outputs": [],
   "source": [
    "def check_plagiarism():\n",
    "    results = set()\n",
    "    global s_vectors\n",
    "    for sample_a, text_vector_a in s_vectors:\n",
    "        new_vectors = s_vectors.copy()\n",
    "        current_index = new_vectors.index((sample_a, text_vector_a))\n",
    "        del new_vectors[current_index]\n",
    "        for sample_b, text_vector_b in new_vectors:\n",
    "            sim_score = similarity(text_vector_a, text_vector_b)[0][1]\n",
    "            sample_pair = sorted((sample_a, sample_b))\n",
    "            score = sample_pair[0], sample_pair[1], sim_score\n",
    "            results.add(score)\n",
    "    return results"
   ]
  },
  {
   "cell_type": "code",
   "execution_count": 6,
   "id": "94f6a1fc",
   "metadata": {},
   "outputs": [],
   "source": [
    "highest = 0\n",
    "index1 = ''\n",
    "index2 = '' \n"
   ]
  },
  {
   "cell_type": "code",
   "execution_count": 7,
   "id": "e523aed5",
   "metadata": {},
   "outputs": [
    {
     "name": "stdout",
     "output_type": "stream",
     "text": [
      "('three.txt', 'two.txt', 1.0000000000000004)\n",
      "('one.txt', 'three.txt', 0.21593767462219)\n",
      "('one.txt', 'two.txt', 0.21593767462219)\n",
      "\n",
      "Highest Plagiarism is: 100.00000000000004% Between three.txt & two.txt\n"
     ]
    }
   ],
   "source": [
    "for data in check_plagiarism():\n",
    "    print(data)  \n",
    "    \n",
    "    if data[2] > highest:\n",
    "      highest = data[2]\n",
    "\n",
    "      index1 = data[0]\n",
    "      index2 = data[1]\n",
    "print()\n",
    "print(\"Highest Plagiarism is: \" + str(highest*100) + \"% Between \" + index1 + \" & \" + index2)"
   ]
  },
  {
   "cell_type": "code",
   "execution_count": null,
   "id": "95f4e4d4",
   "metadata": {},
   "outputs": [],
   "source": []
  }
 ],
 "metadata": {
  "kernelspec": {
   "display_name": "Python 3 (ipykernel)",
   "language": "python",
   "name": "python3"
  },
  "language_info": {
   "codemirror_mode": {
    "name": "ipython",
    "version": 3
   },
   "file_extension": ".py",
   "mimetype": "text/x-python",
   "name": "python",
   "nbconvert_exporter": "python",
   "pygments_lexer": "ipython3",
   "version": "3.9.8"
  }
 },
 "nbformat": 4,
 "nbformat_minor": 5
}
